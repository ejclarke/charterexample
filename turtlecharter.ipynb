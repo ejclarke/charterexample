{
 "cells": [
  {
   "cell_type": "markdown",
   "metadata": {},
   "source": [
    "This is a turtle charter! To start, go to your terminal (or command line), and type 'pip install mobilechelonian' (no 's). Then, you can run the code below. "
   ]
  },
  {
   "cell_type": "code",
   "execution_count": 1,
   "metadata": {
    "collapsed": true
   },
   "outputs": [],
   "source": [
    "from mobilechelonian import Turtle"
   ]
  },
  {
   "cell_type": "code",
   "execution_count": 7,
   "metadata": {
    "collapsed": true
   },
   "outputs": [],
   "source": [
    "# define Turtle alias as t (so you don't have to keep retyping Turtle)\n",
    "t = Turtle()\n",
    "# typing t.WHATEVER tells Python to perform WHATEVER on the Turtle object\n",
    "# define the speed at which it moves\n",
    "t.speed(5)\n",
    "# define a list of colors to pull from\n",
    "colours=[\"red\",\"blue\",\"yellow\",\"brown\",\"black\",\"purple\",\"green\"]\n",
    "# lift the \"pen\" so the turtle doesn't draw anything\n",
    "t.penup(); \n",
    "# turn the turtle 90 degrees left\n",
    "t.left(90);\n",
    "# send the turtle 200 px forward\n",
    "t.forward(200);\n",
    "# turn the turtle 90 degrees to the right\n",
    "t.right(90);\n",
    "# he's on the radius of the circle we want! put the pen down so he can draw\n",
    "t.pendown()\n",
    "# this is a for loop\n",
    "# it will repeat the same action 18 times (because of the way the range is defined)\n",
    "# basically, we're going to draw a \"circle\" out of lines\n",
    "for i in range (0,18):\n",
    "    # this makes each segment a different color (rotating through the \"colours\" list defined above)\n",
    "    t.pencolor(colours[i%7])\n",
    "    # turn the turtle right 20 degrees each time\n",
    "    t.right(20)\n",
    "    # make the turtle go forward 50 pixels each time\n",
    "    t.forward(50)\n",
    "# when the circle is complete, pick up the pen\n",
    "t.penup()\n",
    "# and send the turtle back to the starting position\n",
    "t.home()"
   ]
  },
  {
   "cell_type": "markdown",
   "metadata": {},
   "source": [
    "Below is broken-down code for drawing a square - going through cell by cell allows you to see what's doing what."
   ]
  },
  {
   "cell_type": "code",
   "execution_count": 13,
   "metadata": {
    "collapsed": true
   },
   "outputs": [],
   "source": [
    "# give Turtle an alias\n",
    "t = Turtle()\n",
    "# set speed\n",
    "t.speed(3)\n",
    "# set color as red\n",
    "t.pencolor(\"red\")\n",
    "# move forward 100 px\n",
    "t.forward(100)\n",
    "# turn left 90 degrees\n",
    "t.left(90)"
   ]
  },
  {
   "cell_type": "code",
   "execution_count": 14,
   "metadata": {
    "collapsed": true
   },
   "outputs": [],
   "source": [
    "t.pencolor(\"blue\")\n",
    "t.forward(100)\n",
    "t.left(90)"
   ]
  },
  {
   "cell_type": "code",
   "execution_count": 15,
   "metadata": {
    "collapsed": true
   },
   "outputs": [],
   "source": [
    "t.pencolor(\"yellow\")\n",
    "t.forward(100)\n",
    "t.left(90)"
   ]
  },
  {
   "cell_type": "code",
   "execution_count": 16,
   "metadata": {
    "collapsed": true
   },
   "outputs": [],
   "source": [
    "t.pencolor(\"green\")\n",
    "t.forward(100)"
   ]
  }
 ],
 "metadata": {
  "anaconda-cloud": {},
  "kernelspec": {
   "display_name": "Python [default]",
   "language": "python",
   "name": "python3"
  },
  "language_info": {
   "codemirror_mode": {
    "name": "ipython",
    "version": 3
   },
   "file_extension": ".py",
   "mimetype": "text/x-python",
   "name": "python",
   "nbconvert_exporter": "python",
   "pygments_lexer": "ipython3",
   "version": "3.5.2"
  },
  "widgets": {
   "state": {
    "7b02e3561dd74768a8cf991a99ea2790": {
     "views": [
      {
       "cell_index": 2
      }
     ]
    },
    "8369a9ddc42349ec9f987d81c51f7fb1": {
     "views": [
      {
       "cell_index": 3
      }
     ]
    }
   },
   "version": "1.2.0"
  }
 },
 "nbformat": 4,
 "nbformat_minor": 1
}
